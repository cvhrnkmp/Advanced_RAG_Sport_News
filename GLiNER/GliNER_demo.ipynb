{
 "cells": [
  {
   "cell_type": "code",
   "execution_count": 1,
   "id": "28f63577-0f1a-4f0e-a8cd-271772e479fd",
   "metadata": {
    "tags": []
   },
   "outputs": [
    {
     "name": "stdout",
     "output_type": "stream",
     "text": [
      "Requirement already satisfied: torch in /opt/conda/lib/python3.10/site-packages (from -r requirements.txt (line 1)) (2.0.0+cu117)\n",
      "Requirement already satisfied: transformers in /opt/conda/lib/python3.10/site-packages (from -r requirements.txt (line 2)) (4.38.2)\n",
      "Requirement already satisfied: huggingface_hub in /opt/conda/lib/python3.10/site-packages (from -r requirements.txt (line 3)) (0.20.2)\n",
      "Requirement already satisfied: flair in /opt/conda/lib/python3.10/site-packages (from -r requirements.txt (line 4)) (0.13.1)\n",
      "Requirement already satisfied: seqeval in /opt/conda/lib/python3.10/site-packages (from -r requirements.txt (line 5)) (1.2.2)\n",
      "Requirement already satisfied: tqdm in /opt/conda/lib/python3.10/site-packages (from -r requirements.txt (line 6)) (4.65.0)\n",
      "Requirement already satisfied: filelock in /opt/conda/lib/python3.10/site-packages (from torch->-r requirements.txt (line 1)) (3.9.0)\n",
      "Requirement already satisfied: typing-extensions in /opt/conda/lib/python3.10/site-packages (from torch->-r requirements.txt (line 1)) (4.9.0)\n",
      "Requirement already satisfied: sympy in /opt/conda/lib/python3.10/site-packages (from torch->-r requirements.txt (line 1)) (1.11.1)\n",
      "Requirement already satisfied: networkx in /opt/conda/lib/python3.10/site-packages (from torch->-r requirements.txt (line 1)) (3.1)\n",
      "Requirement already satisfied: jinja2 in /opt/conda/lib/python3.10/site-packages (from torch->-r requirements.txt (line 1)) (3.1.2)\n",
      "Requirement already satisfied: triton==2.0.0 in /opt/conda/lib/python3.10/site-packages (from torch->-r requirements.txt (line 1)) (2.0.0)\n",
      "Requirement already satisfied: cmake in /opt/conda/lib/python3.10/site-packages (from triton==2.0.0->torch->-r requirements.txt (line 1)) (3.25.0)\n",
      "Requirement already satisfied: lit in /opt/conda/lib/python3.10/site-packages (from triton==2.0.0->torch->-r requirements.txt (line 1)) (15.0.7)\n",
      "Requirement already satisfied: numpy>=1.17 in /opt/conda/lib/python3.10/site-packages (from transformers->-r requirements.txt (line 2)) (1.23.5)\n",
      "Requirement already satisfied: packaging>=20.0 in /opt/conda/lib/python3.10/site-packages (from transformers->-r requirements.txt (line 2)) (23.2)\n",
      "Requirement already satisfied: pyyaml>=5.1 in /opt/conda/lib/python3.10/site-packages (from transformers->-r requirements.txt (line 2)) (6.0)\n",
      "Requirement already satisfied: regex!=2019.12.17 in /opt/conda/lib/python3.10/site-packages (from transformers->-r requirements.txt (line 2)) (2023.12.25)\n",
      "Requirement already satisfied: requests in /opt/conda/lib/python3.10/site-packages (from transformers->-r requirements.txt (line 2)) (2.29.0)\n",
      "Requirement already satisfied: tokenizers<0.19,>=0.14 in /opt/conda/lib/python3.10/site-packages (from transformers->-r requirements.txt (line 2)) (0.15.0)\n",
      "Requirement already satisfied: safetensors>=0.4.1 in /opt/conda/lib/python3.10/site-packages (from transformers->-r requirements.txt (line 2)) (0.4.1)\n",
      "Requirement already satisfied: fsspec>=2023.5.0 in /opt/conda/lib/python3.10/site-packages (from huggingface_hub->-r requirements.txt (line 3)) (2023.5.0)\n",
      "Requirement already satisfied: boto3>=1.20.27 in /opt/conda/lib/python3.10/site-packages (from flair->-r requirements.txt (line 4)) (1.34.22)\n",
      "Requirement already satisfied: bpemb>=0.3.2 in /opt/conda/lib/python3.10/site-packages (from flair->-r requirements.txt (line 4)) (0.3.4)\n",
      "Requirement already satisfied: conllu>=4.0 in /opt/conda/lib/python3.10/site-packages (from flair->-r requirements.txt (line 4)) (4.5.3)\n",
      "Requirement already satisfied: deprecated>=1.2.13 in /opt/conda/lib/python3.10/site-packages (from flair->-r requirements.txt (line 4)) (1.2.14)\n",
      "Requirement already satisfied: ftfy>=6.1.0 in /opt/conda/lib/python3.10/site-packages (from flair->-r requirements.txt (line 4)) (6.1.3)\n",
      "Requirement already satisfied: gdown>=4.4.0 in /opt/conda/lib/python3.10/site-packages (from flair->-r requirements.txt (line 4)) (4.7.3)\n",
      "Requirement already satisfied: gensim>=4.2.0 in /opt/conda/lib/python3.10/site-packages (from flair->-r requirements.txt (line 4)) (4.3.2)\n",
      "Requirement already satisfied: janome>=0.4.2 in /opt/conda/lib/python3.10/site-packages (from flair->-r requirements.txt (line 4)) (0.5.0)\n",
      "Requirement already satisfied: langdetect>=1.0.9 in /opt/conda/lib/python3.10/site-packages (from flair->-r requirements.txt (line 4)) (1.0.9)\n",
      "Requirement already satisfied: lxml>=4.8.0 in /opt/conda/lib/python3.10/site-packages (from flair->-r requirements.txt (line 4)) (5.1.0)\n",
      "Requirement already satisfied: matplotlib>=2.2.3 in /opt/conda/lib/python3.10/site-packages (from flair->-r requirements.txt (line 4)) (3.7.1)\n",
      "Requirement already satisfied: more-itertools>=8.13.0 in /opt/conda/lib/python3.10/site-packages (from flair->-r requirements.txt (line 4)) (10.2.0)\n",
      "Requirement already satisfied: mpld3>=0.3 in /opt/conda/lib/python3.10/site-packages (from flair->-r requirements.txt (line 4)) (0.5.10)\n",
      "Requirement already satisfied: pptree>=3.1 in /opt/conda/lib/python3.10/site-packages (from flair->-r requirements.txt (line 4)) (3.1)\n",
      "Requirement already satisfied: python-dateutil>=2.8.2 in /opt/conda/lib/python3.10/site-packages (from flair->-r requirements.txt (line 4)) (2.8.2)\n",
      "Requirement already satisfied: pytorch-revgrad>=0.2.0 in /opt/conda/lib/python3.10/site-packages (from flair->-r requirements.txt (line 4)) (0.2.0)\n",
      "Requirement already satisfied: scikit-learn>=1.0.2 in /opt/conda/lib/python3.10/site-packages (from flair->-r requirements.txt (line 4)) (1.2.2)\n",
      "Requirement already satisfied: segtok>=1.5.11 in /opt/conda/lib/python3.10/site-packages (from flair->-r requirements.txt (line 4)) (1.5.11)\n",
      "Requirement already satisfied: sqlitedict>=2.0.0 in /opt/conda/lib/python3.10/site-packages (from flair->-r requirements.txt (line 4)) (2.1.0)\n",
      "Requirement already satisfied: tabulate>=0.8.10 in /opt/conda/lib/python3.10/site-packages (from flair->-r requirements.txt (line 4)) (0.9.0)\n",
      "Requirement already satisfied: transformer-smaller-training-vocab>=0.2.3 in /opt/conda/lib/python3.10/site-packages (from flair->-r requirements.txt (line 4)) (0.3.3)\n",
      "Requirement already satisfied: urllib3<2.0.0,>=1.0.0 in /opt/conda/lib/python3.10/site-packages (from flair->-r requirements.txt (line 4)) (1.26.15)\n",
      "Requirement already satisfied: wikipedia-api>=0.5.7 in /opt/conda/lib/python3.10/site-packages (from flair->-r requirements.txt (line 4)) (0.6.0)\n",
      "Requirement already satisfied: semver<4.0.0,>=3.0.0 in /opt/conda/lib/python3.10/site-packages (from flair->-r requirements.txt (line 4)) (3.0.2)\n",
      "Requirement already satisfied: botocore<1.35.0,>=1.34.22 in /opt/conda/lib/python3.10/site-packages (from boto3>=1.20.27->flair->-r requirements.txt (line 4)) (1.34.22)\n",
      "Requirement already satisfied: jmespath<2.0.0,>=0.7.1 in /opt/conda/lib/python3.10/site-packages (from boto3>=1.20.27->flair->-r requirements.txt (line 4)) (1.0.1)\n",
      "Requirement already satisfied: s3transfer<0.11.0,>=0.10.0 in /opt/conda/lib/python3.10/site-packages (from boto3>=1.20.27->flair->-r requirements.txt (line 4)) (0.10.0)\n",
      "Requirement already satisfied: sentencepiece in /opt/conda/lib/python3.10/site-packages (from bpemb>=0.3.2->flair->-r requirements.txt (line 4)) (0.1.99)\n",
      "Requirement already satisfied: wrapt<2,>=1.10 in /opt/conda/lib/python3.10/site-packages (from deprecated>=1.2.13->flair->-r requirements.txt (line 4)) (1.16.0)\n",
      "Requirement already satisfied: wcwidth<0.3.0,>=0.2.12 in /opt/conda/lib/python3.10/site-packages (from ftfy>=6.1.0->flair->-r requirements.txt (line 4)) (0.2.13)\n",
      "Requirement already satisfied: six in /opt/conda/lib/python3.10/site-packages (from gdown>=4.4.0->flair->-r requirements.txt (line 4)) (1.16.0)\n",
      "Requirement already satisfied: beautifulsoup4 in /opt/conda/lib/python3.10/site-packages (from gdown>=4.4.0->flair->-r requirements.txt (line 4)) (4.12.2)\n",
      "Requirement already satisfied: scipy>=1.7.0 in /opt/conda/lib/python3.10/site-packages (from gensim>=4.2.0->flair->-r requirements.txt (line 4)) (1.10.1)\n",
      "Requirement already satisfied: smart-open>=1.8.1 in /opt/conda/lib/python3.10/site-packages (from gensim>=4.2.0->flair->-r requirements.txt (line 4)) (6.4.0)\n",
      "Requirement already satisfied: contourpy>=1.0.1 in /opt/conda/lib/python3.10/site-packages (from matplotlib>=2.2.3->flair->-r requirements.txt (line 4)) (1.0.7)\n",
      "Requirement already satisfied: cycler>=0.10 in /opt/conda/lib/python3.10/site-packages (from matplotlib>=2.2.3->flair->-r requirements.txt (line 4)) (0.11.0)\n",
      "Requirement already satisfied: fonttools>=4.22.0 in /opt/conda/lib/python3.10/site-packages (from matplotlib>=2.2.3->flair->-r requirements.txt (line 4)) (4.39.4)\n",
      "Requirement already satisfied: kiwisolver>=1.0.1 in /opt/conda/lib/python3.10/site-packages (from matplotlib>=2.2.3->flair->-r requirements.txt (line 4)) (1.4.4)\n",
      "Requirement already satisfied: pillow>=6.2.0 in /opt/conda/lib/python3.10/site-packages (from matplotlib>=2.2.3->flair->-r requirements.txt (line 4)) (9.5.0)\n",
      "Requirement already satisfied: pyparsing>=2.3.1 in /opt/conda/lib/python3.10/site-packages (from matplotlib>=2.2.3->flair->-r requirements.txt (line 4)) (3.0.9)\n",
      "Requirement already satisfied: joblib>=1.1.1 in /opt/conda/lib/python3.10/site-packages (from scikit-learn>=1.0.2->flair->-r requirements.txt (line 4)) (1.2.0)\n",
      "Requirement already satisfied: threadpoolctl>=2.0.0 in /opt/conda/lib/python3.10/site-packages (from scikit-learn>=1.0.2->flair->-r requirements.txt (line 4)) (3.1.0)\n",
      "Requirement already satisfied: protobuf in /opt/conda/lib/python3.10/site-packages (from transformers->-r requirements.txt (line 2)) (3.19.6)\n",
      "Requirement already satisfied: MarkupSafe>=2.0 in /opt/conda/lib/python3.10/site-packages (from jinja2->torch->-r requirements.txt (line 1)) (2.1.2)\n",
      "Requirement already satisfied: charset-normalizer<4,>=2 in /opt/conda/lib/python3.10/site-packages (from requests->transformers->-r requirements.txt (line 2)) (3.1.0)\n",
      "Requirement already satisfied: idna<4,>=2.5 in /opt/conda/lib/python3.10/site-packages (from requests->transformers->-r requirements.txt (line 2)) (3.4)\n",
      "Requirement already satisfied: certifi>=2017.4.17 in /opt/conda/lib/python3.10/site-packages (from requests->transformers->-r requirements.txt (line 2)) (2023.5.7)\n",
      "Requirement already satisfied: mpmath>=0.19 in /opt/conda/lib/python3.10/site-packages (from sympy->torch->-r requirements.txt (line 1)) (1.3.0)\n",
      "Requirement already satisfied: accelerate>=0.21.0 in /opt/conda/lib/python3.10/site-packages (from transformers->-r requirements.txt (line 2)) (0.26.1)\n",
      "Requirement already satisfied: soupsieve>1.2 in /opt/conda/lib/python3.10/site-packages (from beautifulsoup4->gdown>=4.4.0->flair->-r requirements.txt (line 4)) (2.3.2.post1)\n",
      "Requirement already satisfied: PySocks!=1.5.7,>=1.5.6 in /opt/conda/lib/python3.10/site-packages (from requests->transformers->-r requirements.txt (line 2)) (1.7.1)\n",
      "Requirement already satisfied: psutil in /opt/conda/lib/python3.10/site-packages (from accelerate>=0.21.0->transformers->-r requirements.txt (line 2)) (5.9.5)\n",
      "Requirement already satisfied: transformers==4.38.2 in /opt/conda/lib/python3.10/site-packages (4.38.2)\n",
      "Requirement already satisfied: filelock in /opt/conda/lib/python3.10/site-packages (from transformers==4.38.2) (3.9.0)\n",
      "Requirement already satisfied: huggingface-hub<1.0,>=0.19.3 in /opt/conda/lib/python3.10/site-packages (from transformers==4.38.2) (0.20.2)\n",
      "Requirement already satisfied: numpy>=1.17 in /opt/conda/lib/python3.10/site-packages (from transformers==4.38.2) (1.23.5)\n",
      "Requirement already satisfied: packaging>=20.0 in /opt/conda/lib/python3.10/site-packages (from transformers==4.38.2) (23.2)\n",
      "Requirement already satisfied: pyyaml>=5.1 in /opt/conda/lib/python3.10/site-packages (from transformers==4.38.2) (6.0)\n",
      "Requirement already satisfied: regex!=2019.12.17 in /opt/conda/lib/python3.10/site-packages (from transformers==4.38.2) (2023.12.25)\n",
      "Requirement already satisfied: requests in /opt/conda/lib/python3.10/site-packages (from transformers==4.38.2) (2.29.0)\n",
      "Requirement already satisfied: tokenizers<0.19,>=0.14 in /opt/conda/lib/python3.10/site-packages (from transformers==4.38.2) (0.15.0)\n",
      "Requirement already satisfied: safetensors>=0.4.1 in /opt/conda/lib/python3.10/site-packages (from transformers==4.38.2) (0.4.1)\n",
      "Requirement already satisfied: tqdm>=4.27 in /opt/conda/lib/python3.10/site-packages (from transformers==4.38.2) (4.65.0)\n",
      "Requirement already satisfied: fsspec>=2023.5.0 in /opt/conda/lib/python3.10/site-packages (from huggingface-hub<1.0,>=0.19.3->transformers==4.38.2) (2023.5.0)\n",
      "Requirement already satisfied: typing-extensions>=3.7.4.3 in /opt/conda/lib/python3.10/site-packages (from huggingface-hub<1.0,>=0.19.3->transformers==4.38.2) (4.9.0)\n",
      "Requirement already satisfied: charset-normalizer<4,>=2 in /opt/conda/lib/python3.10/site-packages (from requests->transformers==4.38.2) (3.1.0)\n",
      "Requirement already satisfied: idna<4,>=2.5 in /opt/conda/lib/python3.10/site-packages (from requests->transformers==4.38.2) (3.4)\n",
      "Requirement already satisfied: urllib3<1.27,>=1.21.1 in /opt/conda/lib/python3.10/site-packages (from requests->transformers==4.38.2) (1.26.15)\n",
      "Requirement already satisfied: certifi>=2017.4.17 in /opt/conda/lib/python3.10/site-packages (from requests->transformers==4.38.2) (2023.5.7)\n"
     ]
    }
   ],
   "source": [
    "# !git clone https://github.com/urchade/GLiNER.git\n",
    "#%cd GLiNER\n",
    "!pip install -r requirements.txt\n",
    "!pip install transformers==4.38.2"
   ]
  },
  {
   "cell_type": "markdown",
   "id": "27ccba82-b31b-4421-8153-60d2c6284c89",
   "metadata": {},
   "source": [
    "# Load examples questions"
   ]
  },
  {
   "cell_type": "code",
   "execution_count": 31,
   "id": "7a2e7ddd-a15f-4215-ad49-35c231049f83",
   "metadata": {
    "tags": []
   },
   "outputs": [
    {
     "data": {
      "text/plain": [
       "['Wie hat Bayer Leverkusen am 2023-11-25 der Bundesliga-Hinrunde 2023 gespielt?',\n",
       " 'Welche Teams standen sich am 2023-11-25 in der 1.Bundesliga gegenüber?',\n",
       " 'Wer hat das erste Tor im Spiel Lerverkusen gegen Bremen am 2023-11-25 geschossen und in welcher Minute?',\n",
       " 'Gab es im Spiel Leverkusen gegen Bremen am 2023-11-25 einen Platzverweis?',\n",
       " 'Wie lautet die Halbzeitbilanz in Bezug auf Tore und Ballbesitz im Spiel Leverkusen gegen Bremen in der 1.Bundesliga am 2023-11-25?',\n",
       " 'Gab es im Spiel Leverkusen gegen Bremen am 2023-11-25 einen Elfmeter?',\n",
       " 'Wie viele Ecken gab es im Spiel Leverkusen gegen Bremen am 2023-11-25 in der ersten Bundesliga?',\n",
       " 'Gab es im Spiel Leverkusen gegen Bremen am 2023-11-25 kontroverse Schiedrichterentscheidungen?',\n",
       " 'Welcher Schiedsrichter hat die Begnung Bremen gegen Leverkusen am 2023-11-25 gepfiffen?',\n",
       " 'Wie hat Leverkusen gegen Bremen in der Bundesliga-Hinrunde 2023 gespielt?',\n",
       " 'Wer wurde im Leverkusen gegen Bremen am 2023-11-25 in der 1. Bundesliga ausgewechselt?']"
      ]
     },
     "execution_count": 31,
     "metadata": {},
     "output_type": "execute_result"
    }
   ],
   "source": [
    "import pandas as pd\n",
    "from spacy import displacy\n",
    "df= pd.read_csv(\"../Question_catalog.csv\")\n",
    "questions = list(df[\"Fragen\"])\n",
    "questions"
   ]
  },
  {
   "cell_type": "markdown",
   "id": "36236326-a424-4b6b-82f8-11a21a7b27b5",
   "metadata": {},
   "source": [
    "# Initialize GliNER model "
   ]
  },
  {
   "cell_type": "code",
   "execution_count": 22,
   "id": "82cd60c7-aaed-4a7c-9239-b5ac65f5771d",
   "metadata": {
    "tags": []
   },
   "outputs": [
    {
     "name": "stderr",
     "output_type": "stream",
     "text": [
      "2024-03-19 06:54:50.751579: I tensorflow/core/platform/cpu_feature_guard.cc:193] This TensorFlow binary is optimized with oneAPI Deep Neural Network Library (oneDNN) to use the following CPU instructions in performance-critical operations:  AVX2 FMA\n",
      "To enable them in other operations, rebuild TensorFlow with the appropriate compiler flags.\n"
     ]
    }
   ],
   "source": [
    "from GLiNER.gliner_ner import GlinerNER"
   ]
  },
  {
   "cell_type": "code",
   "execution_count": 26,
   "id": "a04c1a2e-b035-4dd1-8aa8-5911f8a802c5",
   "metadata": {
    "tags": []
   },
   "outputs": [],
   "source": [
    "model_gli = GlinerNER()\n",
    "labels = [\"date\",\"time\", \"club\", \"league\"]"
   ]
  },
  {
   "cell_type": "markdown",
   "id": "11719957-81dd-47dd-9f02-57d0064ad8ad",
   "metadata": {},
   "source": [
    "# Predict entities for examples questions"
   ]
  },
  {
   "cell_type": "code",
   "execution_count": 48,
   "id": "c4087b4c-ba0b-4a11-99d1-1073cd0ba91a",
   "metadata": {
    "tags": []
   },
   "outputs": [
    {
     "data": {
      "text/html": [
       "<span class=\"tex2jax_ignore\"><div class=\"entities\" style=\"line-height: 2.5; direction: ltr\">Wie hat \n",
       "<mark class=\"entity\" style=\"background: #ddd; padding: 0.45em 0.6em; margin: 0 0.25em; line-height: 1; border-radius: 0.35em;\">\n",
       "    Bayer Leverkusen\n",
       "    <span style=\"font-size: 0.8em; font-weight: bold; line-height: 1; border-radius: 0.35em; vertical-align: middle; margin-left: 0.5rem\">club</span>\n",
       "</mark>\n",
       " am \n",
       "<mark class=\"entity\" style=\"background: #bfe1d9; padding: 0.45em 0.6em; margin: 0 0.25em; line-height: 1; border-radius: 0.35em;\">\n",
       "    2023-11-25\n",
       "    <span style=\"font-size: 0.8em; font-weight: bold; line-height: 1; border-radius: 0.35em; vertical-align: middle; margin-left: 0.5rem\">date</span>\n",
       "</mark>\n",
       " der \n",
       "<mark class=\"entity\" style=\"background: #ddd; padding: 0.45em 0.6em; margin: 0 0.25em; line-height: 1; border-radius: 0.35em;\">\n",
       "    Bundesliga-Hinrunde 2023\n",
       "    <span style=\"font-size: 0.8em; font-weight: bold; line-height: 1; border-radius: 0.35em; vertical-align: middle; margin-left: 0.5rem\">league</span>\n",
       "</mark>\n",
       " gespielt?</div></span>"
      ],
      "text/plain": [
       "<IPython.core.display.HTML object>"
      ]
     },
     "metadata": {},
     "output_type": "display_data"
    },
    {
     "name": "stdout",
     "output_type": "stream",
     "text": [
      "\n",
      "-------------\n",
      "\n"
     ]
    },
    {
     "data": {
      "text/html": [
       "<span class=\"tex2jax_ignore\"><div class=\"entities\" style=\"line-height: 2.5; direction: ltr\">Welche \n",
       "<mark class=\"entity\" style=\"background: #ddd; padding: 0.45em 0.6em; margin: 0 0.25em; line-height: 1; border-radius: 0.35em;\">\n",
       "    Teams\n",
       "    <span style=\"font-size: 0.8em; font-weight: bold; line-height: 1; border-radius: 0.35em; vertical-align: middle; margin-left: 0.5rem\">club</span>\n",
       "</mark>\n",
       " standen sich am \n",
       "<mark class=\"entity\" style=\"background: #bfe1d9; padding: 0.45em 0.6em; margin: 0 0.25em; line-height: 1; border-radius: 0.35em;\">\n",
       "    2023-11-25\n",
       "    <span style=\"font-size: 0.8em; font-weight: bold; line-height: 1; border-radius: 0.35em; vertical-align: middle; margin-left: 0.5rem\">date</span>\n",
       "</mark>\n",
       " in der \n",
       "<mark class=\"entity\" style=\"background: #ddd; padding: 0.45em 0.6em; margin: 0 0.25em; line-height: 1; border-radius: 0.35em;\">\n",
       "    1.Bundesliga\n",
       "    <span style=\"font-size: 0.8em; font-weight: bold; line-height: 1; border-radius: 0.35em; vertical-align: middle; margin-left: 0.5rem\">league</span>\n",
       "</mark>\n",
       " gegenüber?</div></span>"
      ],
      "text/plain": [
       "<IPython.core.display.HTML object>"
      ]
     },
     "metadata": {},
     "output_type": "display_data"
    },
    {
     "name": "stdout",
     "output_type": "stream",
     "text": [
      "\n",
      "-------------\n",
      "\n"
     ]
    },
    {
     "data": {
      "text/html": [
       "<span class=\"tex2jax_ignore\"><div class=\"entities\" style=\"line-height: 2.5; direction: ltr\">Wer hat das erste Tor im Spiel \n",
       "<mark class=\"entity\" style=\"background: #ddd; padding: 0.45em 0.6em; margin: 0 0.25em; line-height: 1; border-radius: 0.35em;\">\n",
       "    Lerverkusen\n",
       "    <span style=\"font-size: 0.8em; font-weight: bold; line-height: 1; border-radius: 0.35em; vertical-align: middle; margin-left: 0.5rem\">league</span>\n",
       "</mark>\n",
       " gegen \n",
       "<mark class=\"entity\" style=\"background: #ddd; padding: 0.45em 0.6em; margin: 0 0.25em; line-height: 1; border-radius: 0.35em;\">\n",
       "    Bremen\n",
       "    <span style=\"font-size: 0.8em; font-weight: bold; line-height: 1; border-radius: 0.35em; vertical-align: middle; margin-left: 0.5rem\">club</span>\n",
       "</mark>\n",
       " am \n",
       "<mark class=\"entity\" style=\"background: #bfe1d9; padding: 0.45em 0.6em; margin: 0 0.25em; line-height: 1; border-radius: 0.35em;\">\n",
       "    2023-11-25\n",
       "    <span style=\"font-size: 0.8em; font-weight: bold; line-height: 1; border-radius: 0.35em; vertical-align: middle; margin-left: 0.5rem\">date</span>\n",
       "</mark>\n",
       " geschossen und in welcher Minute?</div></span>"
      ],
      "text/plain": [
       "<IPython.core.display.HTML object>"
      ]
     },
     "metadata": {},
     "output_type": "display_data"
    },
    {
     "name": "stdout",
     "output_type": "stream",
     "text": [
      "\n",
      "-------------\n",
      "\n"
     ]
    },
    {
     "data": {
      "text/html": [
       "<span class=\"tex2jax_ignore\"><div class=\"entities\" style=\"line-height: 2.5; direction: ltr\">Gab es im Spiel \n",
       "<mark class=\"entity\" style=\"background: #ddd; padding: 0.45em 0.6em; margin: 0 0.25em; line-height: 1; border-radius: 0.35em;\">\n",
       "    Leverkusen\n",
       "    <span style=\"font-size: 0.8em; font-weight: bold; line-height: 1; border-radius: 0.35em; vertical-align: middle; margin-left: 0.5rem\">club</span>\n",
       "</mark>\n",
       " gegen \n",
       "<mark class=\"entity\" style=\"background: #ddd; padding: 0.45em 0.6em; margin: 0 0.25em; line-height: 1; border-radius: 0.35em;\">\n",
       "    Bremen\n",
       "    <span style=\"font-size: 0.8em; font-weight: bold; line-height: 1; border-radius: 0.35em; vertical-align: middle; margin-left: 0.5rem\">club</span>\n",
       "</mark>\n",
       " am \n",
       "<mark class=\"entity\" style=\"background: #bfe1d9; padding: 0.45em 0.6em; margin: 0 0.25em; line-height: 1; border-radius: 0.35em;\">\n",
       "    2023-11-25\n",
       "    <span style=\"font-size: 0.8em; font-weight: bold; line-height: 1; border-radius: 0.35em; vertical-align: middle; margin-left: 0.5rem\">date</span>\n",
       "</mark>\n",
       " einen Platzverweis?</div></span>"
      ],
      "text/plain": [
       "<IPython.core.display.HTML object>"
      ]
     },
     "metadata": {},
     "output_type": "display_data"
    },
    {
     "name": "stdout",
     "output_type": "stream",
     "text": [
      "\n",
      "-------------\n",
      "\n"
     ]
    },
    {
     "data": {
      "text/html": [
       "<span class=\"tex2jax_ignore\"><div class=\"entities\" style=\"line-height: 2.5; direction: ltr\">Wie lautet die Halbzeitbilanz in Bezug auf Tore und Ballbesitz im Spiel \n",
       "<mark class=\"entity\" style=\"background: #ddd; padding: 0.45em 0.6em; margin: 0 0.25em; line-height: 1; border-radius: 0.35em;\">\n",
       "    Leverkusen\n",
       "    <span style=\"font-size: 0.8em; font-weight: bold; line-height: 1; border-radius: 0.35em; vertical-align: middle; margin-left: 0.5rem\">club</span>\n",
       "</mark>\n",
       " gegen \n",
       "<mark class=\"entity\" style=\"background: #ddd; padding: 0.45em 0.6em; margin: 0 0.25em; line-height: 1; border-radius: 0.35em;\">\n",
       "    Bremen\n",
       "    <span style=\"font-size: 0.8em; font-weight: bold; line-height: 1; border-radius: 0.35em; vertical-align: middle; margin-left: 0.5rem\">club</span>\n",
       "</mark>\n",
       " in der \n",
       "<mark class=\"entity\" style=\"background: #ddd; padding: 0.45em 0.6em; margin: 0 0.25em; line-height: 1; border-radius: 0.35em;\">\n",
       "    1.Bundesliga\n",
       "    <span style=\"font-size: 0.8em; font-weight: bold; line-height: 1; border-radius: 0.35em; vertical-align: middle; margin-left: 0.5rem\">league</span>\n",
       "</mark>\n",
       " am \n",
       "<mark class=\"entity\" style=\"background: #bfe1d9; padding: 0.45em 0.6em; margin: 0 0.25em; line-height: 1; border-radius: 0.35em;\">\n",
       "    2023-11-25\n",
       "    <span style=\"font-size: 0.8em; font-weight: bold; line-height: 1; border-radius: 0.35em; vertical-align: middle; margin-left: 0.5rem\">date</span>\n",
       "</mark>\n",
       "?</div></span>"
      ],
      "text/plain": [
       "<IPython.core.display.HTML object>"
      ]
     },
     "metadata": {},
     "output_type": "display_data"
    },
    {
     "name": "stdout",
     "output_type": "stream",
     "text": [
      "\n",
      "-------------\n",
      "\n"
     ]
    },
    {
     "data": {
      "text/html": [
       "<span class=\"tex2jax_ignore\"><div class=\"entities\" style=\"line-height: 2.5; direction: ltr\">Gab es im Spiel \n",
       "<mark class=\"entity\" style=\"background: #ddd; padding: 0.45em 0.6em; margin: 0 0.25em; line-height: 1; border-radius: 0.35em;\">\n",
       "    Leverkusen\n",
       "    <span style=\"font-size: 0.8em; font-weight: bold; line-height: 1; border-radius: 0.35em; vertical-align: middle; margin-left: 0.5rem\">club</span>\n",
       "</mark>\n",
       " gegen \n",
       "<mark class=\"entity\" style=\"background: #ddd; padding: 0.45em 0.6em; margin: 0 0.25em; line-height: 1; border-radius: 0.35em;\">\n",
       "    Bremen\n",
       "    <span style=\"font-size: 0.8em; font-weight: bold; line-height: 1; border-radius: 0.35em; vertical-align: middle; margin-left: 0.5rem\">club</span>\n",
       "</mark>\n",
       " am \n",
       "<mark class=\"entity\" style=\"background: #bfe1d9; padding: 0.45em 0.6em; margin: 0 0.25em; line-height: 1; border-radius: 0.35em;\">\n",
       "    2023-11-25\n",
       "    <span style=\"font-size: 0.8em; font-weight: bold; line-height: 1; border-radius: 0.35em; vertical-align: middle; margin-left: 0.5rem\">date</span>\n",
       "</mark>\n",
       " einen Elfmeter?</div></span>"
      ],
      "text/plain": [
       "<IPython.core.display.HTML object>"
      ]
     },
     "metadata": {},
     "output_type": "display_data"
    },
    {
     "name": "stdout",
     "output_type": "stream",
     "text": [
      "\n",
      "-------------\n",
      "\n"
     ]
    },
    {
     "data": {
      "text/html": [
       "<span class=\"tex2jax_ignore\"><div class=\"entities\" style=\"line-height: 2.5; direction: ltr\">Wie viele Ecken gab es im Spiel \n",
       "<mark class=\"entity\" style=\"background: #ddd; padding: 0.45em 0.6em; margin: 0 0.25em; line-height: 1; border-radius: 0.35em;\">\n",
       "    Leverkusen\n",
       "    <span style=\"font-size: 0.8em; font-weight: bold; line-height: 1; border-radius: 0.35em; vertical-align: middle; margin-left: 0.5rem\">club</span>\n",
       "</mark>\n",
       " gegen \n",
       "<mark class=\"entity\" style=\"background: #ddd; padding: 0.45em 0.6em; margin: 0 0.25em; line-height: 1; border-radius: 0.35em;\">\n",
       "    Bremen\n",
       "    <span style=\"font-size: 0.8em; font-weight: bold; line-height: 1; border-radius: 0.35em; vertical-align: middle; margin-left: 0.5rem\">club</span>\n",
       "</mark>\n",
       " am \n",
       "<mark class=\"entity\" style=\"background: #bfe1d9; padding: 0.45em 0.6em; margin: 0 0.25em; line-height: 1; border-radius: 0.35em;\">\n",
       "    2023-11-25\n",
       "    <span style=\"font-size: 0.8em; font-weight: bold; line-height: 1; border-radius: 0.35em; vertical-align: middle; margin-left: 0.5rem\">date</span>\n",
       "</mark>\n",
       " in der ersten \n",
       "<mark class=\"entity\" style=\"background: #ddd; padding: 0.45em 0.6em; margin: 0 0.25em; line-height: 1; border-radius: 0.35em;\">\n",
       "    Bundesliga\n",
       "    <span style=\"font-size: 0.8em; font-weight: bold; line-height: 1; border-radius: 0.35em; vertical-align: middle; margin-left: 0.5rem\">league</span>\n",
       "</mark>\n",
       "?</div></span>"
      ],
      "text/plain": [
       "<IPython.core.display.HTML object>"
      ]
     },
     "metadata": {},
     "output_type": "display_data"
    },
    {
     "name": "stdout",
     "output_type": "stream",
     "text": [
      "\n",
      "-------------\n",
      "\n"
     ]
    },
    {
     "data": {
      "text/html": [
       "<span class=\"tex2jax_ignore\"><div class=\"entities\" style=\"line-height: 2.5; direction: ltr\">Gab es im Spiel \n",
       "<mark class=\"entity\" style=\"background: #ddd; padding: 0.45em 0.6em; margin: 0 0.25em; line-height: 1; border-radius: 0.35em;\">\n",
       "    Leverkusen\n",
       "    <span style=\"font-size: 0.8em; font-weight: bold; line-height: 1; border-radius: 0.35em; vertical-align: middle; margin-left: 0.5rem\">club</span>\n",
       "</mark>\n",
       " gegen \n",
       "<mark class=\"entity\" style=\"background: #ddd; padding: 0.45em 0.6em; margin: 0 0.25em; line-height: 1; border-radius: 0.35em;\">\n",
       "    Bremen\n",
       "    <span style=\"font-size: 0.8em; font-weight: bold; line-height: 1; border-radius: 0.35em; vertical-align: middle; margin-left: 0.5rem\">club</span>\n",
       "</mark>\n",
       " am \n",
       "<mark class=\"entity\" style=\"background: #bfe1d9; padding: 0.45em 0.6em; margin: 0 0.25em; line-height: 1; border-radius: 0.35em;\">\n",
       "    2023-11-25\n",
       "    <span style=\"font-size: 0.8em; font-weight: bold; line-height: 1; border-radius: 0.35em; vertical-align: middle; margin-left: 0.5rem\">date</span>\n",
       "</mark>\n",
       " kontroverse Schiedrichterentscheidungen?</div></span>"
      ],
      "text/plain": [
       "<IPython.core.display.HTML object>"
      ]
     },
     "metadata": {},
     "output_type": "display_data"
    },
    {
     "name": "stdout",
     "output_type": "stream",
     "text": [
      "\n",
      "-------------\n",
      "\n"
     ]
    },
    {
     "data": {
      "text/html": [
       "<span class=\"tex2jax_ignore\"><div class=\"entities\" style=\"line-height: 2.5; direction: ltr\">Welcher Schiedsrichter hat die Begnung \n",
       "<mark class=\"entity\" style=\"background: #ddd; padding: 0.45em 0.6em; margin: 0 0.25em; line-height: 1; border-radius: 0.35em;\">\n",
       "    Bremen\n",
       "    <span style=\"font-size: 0.8em; font-weight: bold; line-height: 1; border-radius: 0.35em; vertical-align: middle; margin-left: 0.5rem\">club</span>\n",
       "</mark>\n",
       " gegen \n",
       "<mark class=\"entity\" style=\"background: #ddd; padding: 0.45em 0.6em; margin: 0 0.25em; line-height: 1; border-radius: 0.35em;\">\n",
       "    Leverkusen\n",
       "    <span style=\"font-size: 0.8em; font-weight: bold; line-height: 1; border-radius: 0.35em; vertical-align: middle; margin-left: 0.5rem\">club</span>\n",
       "</mark>\n",
       " am \n",
       "<mark class=\"entity\" style=\"background: #bfe1d9; padding: 0.45em 0.6em; margin: 0 0.25em; line-height: 1; border-radius: 0.35em;\">\n",
       "    2023-11-25\n",
       "    <span style=\"font-size: 0.8em; font-weight: bold; line-height: 1; border-radius: 0.35em; vertical-align: middle; margin-left: 0.5rem\">date</span>\n",
       "</mark>\n",
       " gepfiffen?</div></span>"
      ],
      "text/plain": [
       "<IPython.core.display.HTML object>"
      ]
     },
     "metadata": {},
     "output_type": "display_data"
    },
    {
     "name": "stdout",
     "output_type": "stream",
     "text": [
      "\n",
      "-------------\n",
      "\n"
     ]
    },
    {
     "data": {
      "text/html": [
       "<span class=\"tex2jax_ignore\"><div class=\"entities\" style=\"line-height: 2.5; direction: ltr\">Wie hat \n",
       "<mark class=\"entity\" style=\"background: #ddd; padding: 0.45em 0.6em; margin: 0 0.25em; line-height: 1; border-radius: 0.35em;\">\n",
       "    Leverkusen\n",
       "    <span style=\"font-size: 0.8em; font-weight: bold; line-height: 1; border-radius: 0.35em; vertical-align: middle; margin-left: 0.5rem\">club</span>\n",
       "</mark>\n",
       " gegen \n",
       "<mark class=\"entity\" style=\"background: #ddd; padding: 0.45em 0.6em; margin: 0 0.25em; line-height: 1; border-radius: 0.35em;\">\n",
       "    Bremen\n",
       "    <span style=\"font-size: 0.8em; font-weight: bold; line-height: 1; border-radius: 0.35em; vertical-align: middle; margin-left: 0.5rem\">club</span>\n",
       "</mark>\n",
       " in der \n",
       "<mark class=\"entity\" style=\"background: #ddd; padding: 0.45em 0.6em; margin: 0 0.25em; line-height: 1; border-radius: 0.35em;\">\n",
       "    Bundesliga-Hinrunde 2023\n",
       "    <span style=\"font-size: 0.8em; font-weight: bold; line-height: 1; border-radius: 0.35em; vertical-align: middle; margin-left: 0.5rem\">league</span>\n",
       "</mark>\n",
       " gespielt?</div></span>"
      ],
      "text/plain": [
       "<IPython.core.display.HTML object>"
      ]
     },
     "metadata": {},
     "output_type": "display_data"
    },
    {
     "name": "stdout",
     "output_type": "stream",
     "text": [
      "\n",
      "-------------\n",
      "\n"
     ]
    },
    {
     "data": {
      "text/html": [
       "<span class=\"tex2jax_ignore\"><div class=\"entities\" style=\"line-height: 2.5; direction: ltr\">Wer wurde im \n",
       "<mark class=\"entity\" style=\"background: #ddd; padding: 0.45em 0.6em; margin: 0 0.25em; line-height: 1; border-radius: 0.35em;\">\n",
       "    Leverkusen\n",
       "    <span style=\"font-size: 0.8em; font-weight: bold; line-height: 1; border-radius: 0.35em; vertical-align: middle; margin-left: 0.5rem\">club</span>\n",
       "</mark>\n",
       " gegen \n",
       "<mark class=\"entity\" style=\"background: #ddd; padding: 0.45em 0.6em; margin: 0 0.25em; line-height: 1; border-radius: 0.35em;\">\n",
       "    Bremen\n",
       "    <span style=\"font-size: 0.8em; font-weight: bold; line-height: 1; border-radius: 0.35em; vertical-align: middle; margin-left: 0.5rem\">club</span>\n",
       "</mark>\n",
       " am \n",
       "<mark class=\"entity\" style=\"background: #bfe1d9; padding: 0.45em 0.6em; margin: 0 0.25em; line-height: 1; border-radius: 0.35em;\">\n",
       "    2023-11-25\n",
       "    <span style=\"font-size: 0.8em; font-weight: bold; line-height: 1; border-radius: 0.35em; vertical-align: middle; margin-left: 0.5rem\">date</span>\n",
       "</mark>\n",
       " in der \n",
       "<mark class=\"entity\" style=\"background: #ddd; padding: 0.45em 0.6em; margin: 0 0.25em; line-height: 1; border-radius: 0.35em;\">\n",
       "    1. Bundesliga\n",
       "    <span style=\"font-size: 0.8em; font-weight: bold; line-height: 1; border-radius: 0.35em; vertical-align: middle; margin-left: 0.5rem\">league</span>\n",
       "</mark>\n",
       " ausgewechselt?</div></span>"
      ],
      "text/plain": [
       "<IPython.core.display.HTML object>"
      ]
     },
     "metadata": {},
     "output_type": "display_data"
    },
    {
     "name": "stdout",
     "output_type": "stream",
     "text": [
      "\n",
      "-------------\n",
      "\n"
     ]
    }
   ],
   "source": [
    "for q in questions:\n",
    "    #print(\"Question: \", q)\n",
    "    pred = model_gli.predict_tags(q, labels)\n",
    "    ent = []\n",
    "    for p in pred:\n",
    "        # Time will not required in inference process\n",
    "        if p[\"label\"] == \"time\":\n",
    "            continue\n",
    "        ent.append(\n",
    "                {\n",
    "                    \"label\": p[\"label\"],\n",
    "                    \"start\": p[\"start\"],\n",
    "                    \"end\": p[\"end\"]\n",
    "                }\n",
    "        )\n",
    "    ex = [\n",
    "    {\n",
    "        \"text\": q,\n",
    "        \"ents\": ent,\n",
    "        \"title\": None\n",
    "    }\n",
    "    ]\n",
    "    displacy.render(ex, style=\"ent\", manual=True)\n",
    "    #print(\"Predictions: \", pred)\n",
    "    print(\"\\n-------------\\n\")"
   ]
  },
  {
   "cell_type": "markdown",
   "id": "0931aeab-0ce7-47a9-a59c-9267a11fb8b0",
   "metadata": {},
   "source": [
    "This approach shows its strength and weaknesses. All in all i works well. In post-process we have to pay attention to the processing of synonyms as instance *Leverkusen*, *Bayer*, *Bayer 04*, *Bayer Leverkusen* or *Bundesliga*, *Bundesliga-Hinrunde 2023*, *1.Bundesliga*.\n",
    "\n",
    "Further, the regonized values have validate, because *Lerverkusen* isn't a league or a club and therefore invalid."
   ]
  },
  {
   "cell_type": "markdown",
   "id": "868a6d35-7d79-4988-992a-f1b1fd2a9a41",
   "metadata": {},
   "source": [
    "# Date extration out of string"
   ]
  },
  {
   "cell_type": "code",
   "execution_count": 47,
   "id": "e8d61461-f3d3-456a-bf21-95001959646c",
   "metadata": {
    "tags": []
   },
   "outputs": [
    {
     "name": "stdout",
     "output_type": "stream",
     "text": [
      "15. März\n",
      "[('15. März', datetime.datetime(2024, 3, 15, 0, 0))]\n",
      "-----------\n",
      "4. Juli\n",
      "[('4. Juli', datetime.datetime(2024, 7, 4, 0, 0))]\n",
      "-----------\n",
      "morgen\n",
      "[('morgen', datetime.datetime(2024, 3, 20, 7, 24, 39, 213052))]\n",
      "-----------\n",
      "zweiten Sonntag\n",
      "[('Sonntag', datetime.datetime(2024, 3, 17, 0, 0))]\n",
      "-----------\n",
      "März\n",
      "[('März', datetime.datetime(2024, 3, 19, 0, 0))]\n",
      "-----------\n",
      "20. Juli 1969\n",
      "[('20. Juli 1969', datetime.datetime(1969, 7, 20, 0, 0))]\n",
      "-----------\n",
      "Black Friday\n",
      "[('Friday', datetime.datetime(2024, 3, 15, 0, 0))]\n",
      "-----------\n",
      "25. November\n",
      "[('November', datetime.datetime(2024, 11, 19, 0, 0))]\n",
      "-----------\n",
      "9. August\n",
      "[('August', datetime.datetime(2024, 8, 19, 0, 0))]\n",
      "-----------\n",
      "14. Februar\n",
      "[('14. Februar', datetime.datetime(2024, 2, 14, 0, 0))]\n",
      "-----------\n",
      "8. April\n",
      "[('April', datetime.datetime(2024, 4, 19, 0, 0))]\n",
      "-----------\n",
      "31. Dezember\n",
      "[('31. Dezember', datetime.datetime(2024, 12, 31, 0, 0))]\n",
      "-----------\n",
      "12. Spieltag\n",
      "No dates found\n",
      "-----------\n",
      "Jahr 2023\n",
      "[('Jahr 2023', datetime.datetime(2023, 3, 19, 0, 0))]\n",
      "-----------\n",
      "2024\n",
      "[('2024', datetime.datetime(2024, 3, 19, 0, 0))]\n",
      "-----------\n"
     ]
    }
   ],
   "source": [
    "from dateparser.search import search_dates\n",
    "\n",
    "german_sentences = [\n",
    "    \"Das Meeting ist für den 15. März um 10:00 Uhr angesetzt.\",\n",
    "    \"Ihr Geburtstag fällt auf den 4. Juli, und sie plant eine große Party.\",\n",
    "    \"Ich habe morgen um 14:30 Uhr einen Termin beim Zahnarzt.\",\n",
    "    \"Denken Sie daran, die Sommerzeit beginnt am zweiten Sonntag im März.\",\n",
    "    \"Wir landeten am 20. Juli 1969 um 20:17 Uhr UTC auf dem Mond.\",\n",
    "    \"Der Laden öffnet am Black Friday, dem 25. November, früh um 5:00 Uhr.\",\n",
    "    \"Das Konzert war fantastisch und endete spät, gegen 23:45 Uhr am 9. August.\",\n",
    "    \"Unser Jahrestag ist am 14. Februar, und ich habe einen Tisch für 19:00 Uhr reserviert.\",\n",
    "    \"Die Sonnenfinsternis wird hier am 8. April sichtbar sein, beginnend um 9:00 Uhr.\",\n",
    "    \"Das Feuerwerk zum Neujahr beginnt um Mitternacht am 31. Dezember.\",\n",
    "    \"Wie hat Leverkusen am 12. Spieltag der Bundesliga Saison Jahr 2023 und 2024 gespielt?\"\n",
    "]\n",
    "results = model_gli.predict_tags(german_sentences, labels)\n",
    "for item in results:\n",
    "    if item[\"label\"] in [\"date\"]:\n",
    "#         \n",
    "        if search_dates(item[\"text\"]) is None:\n",
    "            print(item[\"text\"])\n",
    "            print ('No dates found')\n",
    "            print(\"-----------\")\n",
    "        else:\n",
    "            print(item[\"text\"])\n",
    "            print(search_dates(item[\"text\"]))\n",
    "            print(\"-----------\")"
   ]
  }
 ],
 "metadata": {
  "kernelspec": {
   "display_name": "Python 3 (ipykernel)",
   "language": "python",
   "name": "python3"
  },
  "language_info": {
   "codemirror_mode": {
    "name": "ipython",
    "version": 3
   },
   "file_extension": ".py",
   "mimetype": "text/x-python",
   "name": "python",
   "nbconvert_exporter": "python",
   "pygments_lexer": "ipython3",
   "version": "3.10.11"
  }
 },
 "nbformat": 4,
 "nbformat_minor": 5
}

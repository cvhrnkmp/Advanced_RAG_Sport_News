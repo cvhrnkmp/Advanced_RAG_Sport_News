{
 "cells": [
  {
   "cell_type": "code",
   "execution_count": 29,
   "id": "28f63577-0f1a-4f0e-a8cd-271772e479fd",
   "metadata": {
    "tags": []
   },
   "outputs": [
    {
     "name": "stdout",
     "output_type": "stream",
     "text": [
      "Requirement already satisfied: torch in /opt/conda/lib/python3.10/site-packages (from -r requirements.txt (line 1)) (2.0.0+cu117)\n",
      "Requirement already satisfied: transformers in /opt/conda/lib/python3.10/site-packages (from -r requirements.txt (line 2)) (4.38.2)\n",
      "Requirement already satisfied: huggingface_hub in /opt/conda/lib/python3.10/site-packages (from -r requirements.txt (line 3)) (0.20.2)\n",
      "Requirement already satisfied: flair in /opt/conda/lib/python3.10/site-packages (from -r requirements.txt (line 4)) (0.13.1)\n",
      "Requirement already satisfied: seqeval in /opt/conda/lib/python3.10/site-packages (from -r requirements.txt (line 5)) (1.2.2)\n",
      "Requirement already satisfied: tqdm in /opt/conda/lib/python3.10/site-packages (from -r requirements.txt (line 6)) (4.65.0)\n",
      "Requirement already satisfied: filelock in /opt/conda/lib/python3.10/site-packages (from torch->-r requirements.txt (line 1)) (3.9.0)\n",
      "Requirement already satisfied: typing-extensions in /opt/conda/lib/python3.10/site-packages (from torch->-r requirements.txt (line 1)) (4.9.0)\n",
      "Requirement already satisfied: sympy in /opt/conda/lib/python3.10/site-packages (from torch->-r requirements.txt (line 1)) (1.11.1)\n",
      "Requirement already satisfied: networkx in /opt/conda/lib/python3.10/site-packages (from torch->-r requirements.txt (line 1)) (3.1)\n",
      "Requirement already satisfied: jinja2 in /opt/conda/lib/python3.10/site-packages (from torch->-r requirements.txt (line 1)) (3.1.2)\n",
      "Requirement already satisfied: triton==2.0.0 in /opt/conda/lib/python3.10/site-packages (from torch->-r requirements.txt (line 1)) (2.0.0)\n",
      "Requirement already satisfied: cmake in /opt/conda/lib/python3.10/site-packages (from triton==2.0.0->torch->-r requirements.txt (line 1)) (3.25.0)\n",
      "Requirement already satisfied: lit in /opt/conda/lib/python3.10/site-packages (from triton==2.0.0->torch->-r requirements.txt (line 1)) (15.0.7)\n",
      "Requirement already satisfied: numpy>=1.17 in /opt/conda/lib/python3.10/site-packages (from transformers->-r requirements.txt (line 2)) (1.23.5)\n",
      "Requirement already satisfied: packaging>=20.0 in /opt/conda/lib/python3.10/site-packages (from transformers->-r requirements.txt (line 2)) (23.2)\n",
      "Requirement already satisfied: pyyaml>=5.1 in /opt/conda/lib/python3.10/site-packages (from transformers->-r requirements.txt (line 2)) (6.0)\n",
      "Requirement already satisfied: regex!=2019.12.17 in /opt/conda/lib/python3.10/site-packages (from transformers->-r requirements.txt (line 2)) (2023.12.25)\n",
      "Requirement already satisfied: requests in /opt/conda/lib/python3.10/site-packages (from transformers->-r requirements.txt (line 2)) (2.29.0)\n",
      "Requirement already satisfied: tokenizers<0.19,>=0.14 in /opt/conda/lib/python3.10/site-packages (from transformers->-r requirements.txt (line 2)) (0.15.0)\n",
      "Requirement already satisfied: safetensors>=0.4.1 in /opt/conda/lib/python3.10/site-packages (from transformers->-r requirements.txt (line 2)) (0.4.1)\n",
      "Requirement already satisfied: fsspec>=2023.5.0 in /opt/conda/lib/python3.10/site-packages (from huggingface_hub->-r requirements.txt (line 3)) (2023.5.0)\n",
      "Requirement already satisfied: boto3>=1.20.27 in /opt/conda/lib/python3.10/site-packages (from flair->-r requirements.txt (line 4)) (1.34.22)\n",
      "Requirement already satisfied: bpemb>=0.3.2 in /opt/conda/lib/python3.10/site-packages (from flair->-r requirements.txt (line 4)) (0.3.4)\n",
      "Requirement already satisfied: conllu>=4.0 in /opt/conda/lib/python3.10/site-packages (from flair->-r requirements.txt (line 4)) (4.5.3)\n",
      "Requirement already satisfied: deprecated>=1.2.13 in /opt/conda/lib/python3.10/site-packages (from flair->-r requirements.txt (line 4)) (1.2.14)\n",
      "Requirement already satisfied: ftfy>=6.1.0 in /opt/conda/lib/python3.10/site-packages (from flair->-r requirements.txt (line 4)) (6.1.3)\n",
      "Requirement already satisfied: gdown>=4.4.0 in /opt/conda/lib/python3.10/site-packages (from flair->-r requirements.txt (line 4)) (4.7.3)\n",
      "Requirement already satisfied: gensim>=4.2.0 in /opt/conda/lib/python3.10/site-packages (from flair->-r requirements.txt (line 4)) (4.3.2)\n",
      "Requirement already satisfied: janome>=0.4.2 in /opt/conda/lib/python3.10/site-packages (from flair->-r requirements.txt (line 4)) (0.5.0)\n",
      "Requirement already satisfied: langdetect>=1.0.9 in /opt/conda/lib/python3.10/site-packages (from flair->-r requirements.txt (line 4)) (1.0.9)\n",
      "Requirement already satisfied: lxml>=4.8.0 in /opt/conda/lib/python3.10/site-packages (from flair->-r requirements.txt (line 4)) (5.1.0)\n",
      "Requirement already satisfied: matplotlib>=2.2.3 in /opt/conda/lib/python3.10/site-packages (from flair->-r requirements.txt (line 4)) (3.7.1)\n",
      "Requirement already satisfied: more-itertools>=8.13.0 in /opt/conda/lib/python3.10/site-packages (from flair->-r requirements.txt (line 4)) (10.2.0)\n",
      "Requirement already satisfied: mpld3>=0.3 in /opt/conda/lib/python3.10/site-packages (from flair->-r requirements.txt (line 4)) (0.5.10)\n",
      "Requirement already satisfied: pptree>=3.1 in /opt/conda/lib/python3.10/site-packages (from flair->-r requirements.txt (line 4)) (3.1)\n",
      "Requirement already satisfied: python-dateutil>=2.8.2 in /opt/conda/lib/python3.10/site-packages (from flair->-r requirements.txt (line 4)) (2.8.2)\n",
      "Requirement already satisfied: pytorch-revgrad>=0.2.0 in /opt/conda/lib/python3.10/site-packages (from flair->-r requirements.txt (line 4)) (0.2.0)\n",
      "Requirement already satisfied: scikit-learn>=1.0.2 in /opt/conda/lib/python3.10/site-packages (from flair->-r requirements.txt (line 4)) (1.2.2)\n",
      "Requirement already satisfied: segtok>=1.5.11 in /opt/conda/lib/python3.10/site-packages (from flair->-r requirements.txt (line 4)) (1.5.11)\n",
      "Requirement already satisfied: sqlitedict>=2.0.0 in /opt/conda/lib/python3.10/site-packages (from flair->-r requirements.txt (line 4)) (2.1.0)\n",
      "Requirement already satisfied: tabulate>=0.8.10 in /opt/conda/lib/python3.10/site-packages (from flair->-r requirements.txt (line 4)) (0.9.0)\n",
      "Requirement already satisfied: transformer-smaller-training-vocab>=0.2.3 in /opt/conda/lib/python3.10/site-packages (from flair->-r requirements.txt (line 4)) (0.3.3)\n",
      "Requirement already satisfied: urllib3<2.0.0,>=1.0.0 in /opt/conda/lib/python3.10/site-packages (from flair->-r requirements.txt (line 4)) (1.26.15)\n",
      "Requirement already satisfied: wikipedia-api>=0.5.7 in /opt/conda/lib/python3.10/site-packages (from flair->-r requirements.txt (line 4)) (0.6.0)\n",
      "Requirement already satisfied: semver<4.0.0,>=3.0.0 in /opt/conda/lib/python3.10/site-packages (from flair->-r requirements.txt (line 4)) (3.0.2)\n",
      "Requirement already satisfied: botocore<1.35.0,>=1.34.22 in /opt/conda/lib/python3.10/site-packages (from boto3>=1.20.27->flair->-r requirements.txt (line 4)) (1.34.22)\n",
      "Requirement already satisfied: jmespath<2.0.0,>=0.7.1 in /opt/conda/lib/python3.10/site-packages (from boto3>=1.20.27->flair->-r requirements.txt (line 4)) (1.0.1)\n",
      "Requirement already satisfied: s3transfer<0.11.0,>=0.10.0 in /opt/conda/lib/python3.10/site-packages (from boto3>=1.20.27->flair->-r requirements.txt (line 4)) (0.10.0)\n",
      "Requirement already satisfied: sentencepiece in /opt/conda/lib/python3.10/site-packages (from bpemb>=0.3.2->flair->-r requirements.txt (line 4)) (0.1.99)\n",
      "Requirement already satisfied: wrapt<2,>=1.10 in /opt/conda/lib/python3.10/site-packages (from deprecated>=1.2.13->flair->-r requirements.txt (line 4)) (1.16.0)\n",
      "Requirement already satisfied: wcwidth<0.3.0,>=0.2.12 in /opt/conda/lib/python3.10/site-packages (from ftfy>=6.1.0->flair->-r requirements.txt (line 4)) (0.2.13)\n",
      "Requirement already satisfied: six in /opt/conda/lib/python3.10/site-packages (from gdown>=4.4.0->flair->-r requirements.txt (line 4)) (1.16.0)\n",
      "Requirement already satisfied: beautifulsoup4 in /opt/conda/lib/python3.10/site-packages (from gdown>=4.4.0->flair->-r requirements.txt (line 4)) (4.12.2)\n",
      "Requirement already satisfied: scipy>=1.7.0 in /opt/conda/lib/python3.10/site-packages (from gensim>=4.2.0->flair->-r requirements.txt (line 4)) (1.10.1)\n",
      "Requirement already satisfied: smart-open>=1.8.1 in /opt/conda/lib/python3.10/site-packages (from gensim>=4.2.0->flair->-r requirements.txt (line 4)) (6.4.0)\n",
      "Requirement already satisfied: contourpy>=1.0.1 in /opt/conda/lib/python3.10/site-packages (from matplotlib>=2.2.3->flair->-r requirements.txt (line 4)) (1.0.7)\n",
      "Requirement already satisfied: cycler>=0.10 in /opt/conda/lib/python3.10/site-packages (from matplotlib>=2.2.3->flair->-r requirements.txt (line 4)) (0.11.0)\n",
      "Requirement already satisfied: fonttools>=4.22.0 in /opt/conda/lib/python3.10/site-packages (from matplotlib>=2.2.3->flair->-r requirements.txt (line 4)) (4.39.4)\n",
      "Requirement already satisfied: kiwisolver>=1.0.1 in /opt/conda/lib/python3.10/site-packages (from matplotlib>=2.2.3->flair->-r requirements.txt (line 4)) (1.4.4)\n",
      "Requirement already satisfied: pillow>=6.2.0 in /opt/conda/lib/python3.10/site-packages (from matplotlib>=2.2.3->flair->-r requirements.txt (line 4)) (9.5.0)\n",
      "Requirement already satisfied: pyparsing>=2.3.1 in /opt/conda/lib/python3.10/site-packages (from matplotlib>=2.2.3->flair->-r requirements.txt (line 4)) (3.0.9)\n",
      "Requirement already satisfied: joblib>=1.1.1 in /opt/conda/lib/python3.10/site-packages (from scikit-learn>=1.0.2->flair->-r requirements.txt (line 4)) (1.2.0)\n",
      "Requirement already satisfied: threadpoolctl>=2.0.0 in /opt/conda/lib/python3.10/site-packages (from scikit-learn>=1.0.2->flair->-r requirements.txt (line 4)) (3.1.0)\n",
      "Requirement already satisfied: protobuf in /opt/conda/lib/python3.10/site-packages (from transformers->-r requirements.txt (line 2)) (3.19.6)\n",
      "Requirement already satisfied: MarkupSafe>=2.0 in /opt/conda/lib/python3.10/site-packages (from jinja2->torch->-r requirements.txt (line 1)) (2.1.2)\n",
      "Requirement already satisfied: charset-normalizer<4,>=2 in /opt/conda/lib/python3.10/site-packages (from requests->transformers->-r requirements.txt (line 2)) (3.1.0)\n",
      "Requirement already satisfied: idna<4,>=2.5 in /opt/conda/lib/python3.10/site-packages (from requests->transformers->-r requirements.txt (line 2)) (3.4)\n",
      "Requirement already satisfied: certifi>=2017.4.17 in /opt/conda/lib/python3.10/site-packages (from requests->transformers->-r requirements.txt (line 2)) (2023.5.7)\n",
      "Requirement already satisfied: mpmath>=0.19 in /opt/conda/lib/python3.10/site-packages (from sympy->torch->-r requirements.txt (line 1)) (1.3.0)\n",
      "Requirement already satisfied: accelerate>=0.21.0 in /opt/conda/lib/python3.10/site-packages (from transformers->-r requirements.txt (line 2)) (0.26.1)\n",
      "Requirement already satisfied: soupsieve>1.2 in /opt/conda/lib/python3.10/site-packages (from beautifulsoup4->gdown>=4.4.0->flair->-r requirements.txt (line 4)) (2.3.2.post1)\n",
      "Requirement already satisfied: PySocks!=1.5.7,>=1.5.6 in /opt/conda/lib/python3.10/site-packages (from requests->transformers->-r requirements.txt (line 2)) (1.7.1)\n",
      "Requirement already satisfied: psutil in /opt/conda/lib/python3.10/site-packages (from accelerate>=0.21.0->transformers->-r requirements.txt (line 2)) (5.9.5)\n",
      "Requirement already satisfied: transformers==4.38.2 in /opt/conda/lib/python3.10/site-packages (4.38.2)\n",
      "Requirement already satisfied: filelock in /opt/conda/lib/python3.10/site-packages (from transformers==4.38.2) (3.9.0)\n",
      "Requirement already satisfied: huggingface-hub<1.0,>=0.19.3 in /opt/conda/lib/python3.10/site-packages (from transformers==4.38.2) (0.20.2)\n",
      "Requirement already satisfied: numpy>=1.17 in /opt/conda/lib/python3.10/site-packages (from transformers==4.38.2) (1.23.5)\n",
      "Requirement already satisfied: packaging>=20.0 in /opt/conda/lib/python3.10/site-packages (from transformers==4.38.2) (23.2)\n",
      "Requirement already satisfied: pyyaml>=5.1 in /opt/conda/lib/python3.10/site-packages (from transformers==4.38.2) (6.0)\n",
      "Requirement already satisfied: regex!=2019.12.17 in /opt/conda/lib/python3.10/site-packages (from transformers==4.38.2) (2023.12.25)\n",
      "Requirement already satisfied: requests in /opt/conda/lib/python3.10/site-packages (from transformers==4.38.2) (2.29.0)\n",
      "Requirement already satisfied: tokenizers<0.19,>=0.14 in /opt/conda/lib/python3.10/site-packages (from transformers==4.38.2) (0.15.0)\n",
      "Requirement already satisfied: safetensors>=0.4.1 in /opt/conda/lib/python3.10/site-packages (from transformers==4.38.2) (0.4.1)\n",
      "Requirement already satisfied: tqdm>=4.27 in /opt/conda/lib/python3.10/site-packages (from transformers==4.38.2) (4.65.0)\n",
      "Requirement already satisfied: fsspec>=2023.5.0 in /opt/conda/lib/python3.10/site-packages (from huggingface-hub<1.0,>=0.19.3->transformers==4.38.2) (2023.5.0)\n",
      "Requirement already satisfied: typing-extensions>=3.7.4.3 in /opt/conda/lib/python3.10/site-packages (from huggingface-hub<1.0,>=0.19.3->transformers==4.38.2) (4.9.0)\n",
      "Requirement already satisfied: charset-normalizer<4,>=2 in /opt/conda/lib/python3.10/site-packages (from requests->transformers==4.38.2) (3.1.0)\n",
      "Requirement already satisfied: idna<4,>=2.5 in /opt/conda/lib/python3.10/site-packages (from requests->transformers==4.38.2) (3.4)\n",
      "Requirement already satisfied: urllib3<1.27,>=1.21.1 in /opt/conda/lib/python3.10/site-packages (from requests->transformers==4.38.2) (1.26.15)\n",
      "Requirement already satisfied: certifi>=2017.4.17 in /opt/conda/lib/python3.10/site-packages (from requests->transformers==4.38.2) (2023.5.7)\n"
     ]
    }
   ],
   "source": [
    "# !git clone https://github.com/urchade/GLiNER.git\n",
    "#%cd GLiNER\n",
    "!pip install -r requirements.txt\n",
    "!pip install transformers==4.38.2"
   ]
  },
  {
   "cell_type": "code",
   "execution_count": 30,
   "id": "bf3ccbf6-ce26-42a6-93c2-ec80df1cf7d6",
   "metadata": {
    "tags": []
   },
   "outputs": [],
   "source": [
    "from model import GLiNER\n",
    "\n",
    "model = GLiNER.from_pretrained(\"urchade/gliner_base\")"
   ]
  },
  {
   "cell_type": "code",
   "execution_count": 31,
   "id": "5ee6229e-18a8-4252-996d-78303306a93f",
   "metadata": {
    "tags": []
   },
   "outputs": [
    {
     "name": "stdout",
     "output_type": "stream",
     "text": [
      "Cristiano Ronaldo dos Santos Aveiro => person\n",
      "5 February 1985 => date\n",
      "Al Nassr => teams\n",
      "Portugal national team => teams\n",
      "Ballon d'Or => award\n",
      "UEFA Men's Player of the Year Awards => award\n",
      "European Golden Shoes => award\n",
      "UEFA Champions Leagues => competitions\n",
      "UEFA European Championship => competitions\n",
      "UEFA Nations League => competitions\n",
      "Champions League => competitions\n",
      "European Championship => competitions\n"
     ]
    }
   ],
   "source": [
    "text = \"\"\"\n",
    "Cristiano Ronaldo dos Santos Aveiro (Portuguese pronunciation: [kɾiʃˈtjɐnu ʁɔˈnaldu]; born 5 February 1985) is a Portuguese professional footballer who plays as a forward for and captains both Saudi Pro League club Al Nassr and the Portugal national team. Widely regarded as one of the greatest players of all time, Ronaldo has won five Ballon d'Or awards,[note 3] a record three UEFA Men's Player of the Year Awards, and four European Golden Shoes, the most by a European player. He has won 33 trophies in his career, including seven league titles, five UEFA Champions Leagues, the UEFA European Championship and the UEFA Nations League. Ronaldo holds the records for most appearances (183), goals (140) and assists (42) in the Champions League, goals in the European Championship (14), international goals (128) and international appearances (205). He is one of the few players to have made over 1,200 professional career appearances, the most by an outfield player, and has scored over 850 official senior career goals for club and country, making him the top goalscorer of all time.\n",
    "\"\"\"\n",
    "\n",
    "labels = [\"person\", \"award\", \"date\", \"competitions\", \"teams\"]\n",
    "\n",
    "entities = model.predict_entities(text, labels)\n",
    "\n",
    "for entity in entities:\n",
    "    print(entity[\"text\"], \"=>\", entity[\"label\"])"
   ]
  },
  {
   "cell_type": "code",
   "execution_count": 32,
   "id": "6022e5f9-8675-4905-b97f-08c7d756deb5",
   "metadata": {
    "tags": []
   },
   "outputs": [],
   "source": [
    "german_sentences = [\n",
    "    \"Das Meeting ist für den 15. März um 10:00 Uhr angesetzt.\",\n",
    "    \"Ihr Geburtstag fällt auf den 4. Juli, und sie plant eine große Party.\",\n",
    "    \"Ich habe morgen um 14:30 Uhr einen Termin beim Zahnarzt.\",\n",
    "    \"Denken Sie daran, die Sommerzeit beginnt am zweiten Sonntag im März.\",\n",
    "    \"Wir landeten am 20. Juli 1969 um 20:17 Uhr UTC auf dem Mond.\",\n",
    "    \"Der Laden öffnet am Black Friday, dem 25. November, früh um 5:00 Uhr.\",\n",
    "    \"Das Konzert war fantastisch und endete spät, gegen 23:45 Uhr am 9. August.\",\n",
    "    \"Unser Jahrestag ist am 14. Februar, und ich habe einen Tisch für 19:00 Uhr reserviert.\",\n",
    "    \"Die Sonnenfinsternis wird hier am 8. April sichtbar sein, beginnend um 9:00 Uhr.\",\n",
    "    \"Das Feuerwerk zum Neujahr beginnt um Mitternacht am 31. Dezember.\",\n",
    "    \"Wie hat Leverkusen am 12. Spieltag der Bundesliga Saison Jahr 2023 und 2024 gespielt?\"\n",
    "]\n"
   ]
  },
  {
   "cell_type": "code",
   "execution_count": 45,
   "id": "3b4fb0f4-dfb0-4168-bec3-e2aae07db536",
   "metadata": {
    "tags": []
   },
   "outputs": [
    {
     "name": "stdout",
     "output_type": "stream",
     "text": [
      "Das Meeting ist für den 15. März um 10:00 Uhr angesetzt.\n",
      "Entity:  15. März => date\n",
      "Entity:  10:00 Uhr => time\n",
      "---------\n",
      "Ihr Geburtstag fällt auf den 4. Juli, und sie plant eine große Party.\n",
      "Entity:  Geburtstag => day\n",
      "Entity:  4. Juli => date\n",
      "Entity:  Party => time\n",
      "---------\n",
      "Ich habe morgen um 14:30 Uhr einen Termin beim Zahnarzt.\n",
      "Entity:  morgen => day\n",
      "Entity:  14:30 Uhr => time\n",
      "---------\n",
      "Denken Sie daran, die Sommerzeit beginnt am zweiten Sonntag im März.\n",
      "Entity:  Sommerzeit => time\n",
      "Entity:  zweiten Sonntag => day\n",
      "Entity:  März => month\n",
      "---------\n",
      "Wir landeten am 20. Juli 1969 um 20:17 Uhr UTC auf dem Mond.\n",
      "Entity:  20. Juli 1969 => date\n",
      "Entity:  20:17 Uhr => time\n",
      "Entity:  UTC => time\n",
      "---------\n",
      "Der Laden öffnet am Black Friday, dem 25. November, früh um 5:00 Uhr.\n",
      "Entity:  Laden => club\n",
      "Entity:  Black Friday => day\n",
      "Entity:  25. November => date\n",
      "Entity:  früh => time\n",
      "Entity:  5:00 Uhr => time\n",
      "---------\n",
      "Das Konzert war fantastisch und endete spät, gegen 23:45 Uhr am 9. August.\n",
      "Entity:  23:45 Uhr => time\n",
      "Entity:  9. August => date\n",
      "---------\n",
      "Unser Jahrestag ist am 14. Februar, und ich habe einen Tisch für 19:00 Uhr reserviert.\n",
      "Entity:  Jahrestag => day\n",
      "Entity:  14. Februar => date\n",
      "Entity:  19:00 Uhr => time\n",
      "---------\n",
      "Die Sonnenfinsternis wird hier am 8. April sichtbar sein, beginnend um 9:00 Uhr.\n",
      "Entity:  8. April => date\n",
      "Entity:  9:00 Uhr => time\n",
      "---------\n",
      "Das Feuerwerk zum Neujahr beginnt um Mitternacht am 31. Dezember.\n",
      "Entity:  Neujahr => year\n",
      "Entity:  Mitternacht => time\n",
      "Entity:  31. Dezember => date\n",
      "---------\n",
      "Wie hat Leverkusen am 12. Spieltag der Bundesliga Saison Jahr 2023 und 2024 gespielt?\n",
      "Entity:  Leverkusen => club\n",
      "Entity:  12. Spieltag => day\n",
      "Entity:  Bundesliga => league\n",
      "Entity:  Jahr 2023 => year\n",
      "Entity:  2024 => year\n",
      "---------\n"
     ]
    },
    {
     "data": {
      "text/plain": [
       "[('date', '15. März'),\n",
       " ('time', '10:00 Uhr'),\n",
       " ('day', 'Geburtstag'),\n",
       " ('date', '4. Juli'),\n",
       " ('time', 'Party'),\n",
       " ('day', 'morgen'),\n",
       " ('time', '14:30 Uhr'),\n",
       " ('time', 'Sommerzeit'),\n",
       " ('day', 'zweiten Sonntag'),\n",
       " ('month', 'März'),\n",
       " ('date', '20. Juli 1969'),\n",
       " ('time', '20:17 Uhr'),\n",
       " ('time', 'UTC'),\n",
       " ('club', 'Laden'),\n",
       " ('day', 'Black Friday'),\n",
       " ('date', '25. November'),\n",
       " ('time', 'früh'),\n",
       " ('time', '5:00 Uhr'),\n",
       " ('time', '23:45 Uhr'),\n",
       " ('date', '9. August'),\n",
       " ('day', 'Jahrestag'),\n",
       " ('date', '14. Februar'),\n",
       " ('time', '19:00 Uhr'),\n",
       " ('date', '8. April'),\n",
       " ('time', '9:00 Uhr'),\n",
       " ('year', 'Neujahr'),\n",
       " ('time', 'Mitternacht'),\n",
       " ('date', '31. Dezember'),\n",
       " ('club', 'Leverkusen'),\n",
       " ('day', '12. Spieltag'),\n",
       " ('league', 'Bundesliga'),\n",
       " ('year', 'Jahr 2023'),\n",
       " ('year', '2024')]"
      ]
     },
     "execution_count": 45,
     "metadata": {},
     "output_type": "execute_result"
    }
   ],
   "source": [
    "\n",
    "labels = [\"date\", \"time\", \"club\", \"league\", \"month\", \"day\", \"year\"]\n",
    "\n",
    "recognitions = []\n",
    "\n",
    "for text in german_sentences:\n",
    "    entities = model.predict_entities(text, labels)\n",
    "    print(text)\n",
    "    for entity in entities:\n",
    "        print(\"Entity: \" , entity[\"text\"], \"=>\", entity[\"label\"])\n",
    "        recognitions.append((entity[\"label\"], entity[\"text\"]))        \n",
    "    print(\"---------\")\n",
    "                            \n",
    "recognitions"
   ]
  },
  {
   "cell_type": "code",
   "execution_count": 42,
   "id": "82cd60c7-aaed-4a7c-9239-b5ac65f5771d",
   "metadata": {
    "tags": []
   },
   "outputs": [],
   "source": [
    "import gliner_ner"
   ]
  },
  {
   "cell_type": "code",
   "execution_count": 43,
   "id": "a04c1a2e-b035-4dd1-8aa8-5911f8a802c5",
   "metadata": {
    "tags": []
   },
   "outputs": [
    {
     "data": {
      "text/plain": [
       "[{'start': 24, 'end': 32, 'text': '15. März', 'label': 'date'},\n",
       " {'start': 36, 'end': 45, 'text': '10:00 Uhr', 'label': 'time'},\n",
       " {'start': 29, 'end': 36, 'text': '4. Juli', 'label': 'date'},\n",
       " {'start': 9, 'end': 15, 'text': 'morgen', 'label': 'date'},\n",
       " {'start': 19, 'end': 28, 'text': '14:30 Uhr', 'label': 'time'},\n",
       " {'start': 22, 'end': 32, 'text': 'Sommerzeit', 'label': 'time'},\n",
       " {'start': 44, 'end': 59, 'text': 'zweiten Sonntag', 'label': 'date'},\n",
       " {'start': 63, 'end': 67, 'text': 'März', 'label': 'date'},\n",
       " {'start': 16, 'end': 29, 'text': '20. Juli 1969', 'label': 'date'},\n",
       " {'start': 33, 'end': 42, 'text': '20:17 Uhr', 'label': 'time'},\n",
       " {'start': 43, 'end': 46, 'text': 'UTC', 'label': 'time'},\n",
       " {'start': 20, 'end': 32, 'text': 'Black Friday', 'label': 'date'},\n",
       " {'start': 38, 'end': 50, 'text': '25. November', 'label': 'date'},\n",
       " {'start': 52, 'end': 56, 'text': 'früh', 'label': 'time'},\n",
       " {'start': 60, 'end': 68, 'text': '5:00 Uhr', 'label': 'time'},\n",
       " {'start': 51, 'end': 60, 'text': '23:45 Uhr', 'label': 'time'},\n",
       " {'start': 64, 'end': 73, 'text': '9. August', 'label': 'date'},\n",
       " {'start': 23, 'end': 34, 'text': '14. Februar', 'label': 'date'},\n",
       " {'start': 65, 'end': 74, 'text': '19:00 Uhr', 'label': 'time'},\n",
       " {'start': 34, 'end': 42, 'text': '8. April', 'label': 'date'},\n",
       " {'start': 71, 'end': 79, 'text': '9:00 Uhr', 'label': 'time'},\n",
       " {'start': 37, 'end': 48, 'text': 'Mitternacht', 'label': 'time'},\n",
       " {'start': 52, 'end': 64, 'text': '31. Dezember', 'label': 'date'},\n",
       " {'start': 22, 'end': 34, 'text': '12. Spieltag', 'label': 'date'},\n",
       " {'start': 57, 'end': 66, 'text': 'Jahr 2023', 'label': 'date'},\n",
       " {'start': 71, 'end': 75, 'text': '2024', 'label': 'date'}]"
      ]
     },
     "execution_count": 43,
     "metadata": {},
     "output_type": "execute_result"
    }
   ],
   "source": [
    "model_gli = gliner_ner.GlinerNER()\n",
    "results = model_gli.predict_tags(german_sentences, verbose = True)\n",
    "[item for item in results if item[\"label\"] in [\"date\", \"time\"]]"
   ]
  },
  {
   "cell_type": "code",
   "execution_count": 44,
   "id": "e8d61461-f3d3-456a-bf21-95001959646c",
   "metadata": {
    "tags": []
   },
   "outputs": [
    {
     "name": "stdout",
     "output_type": "stream",
     "text": [
      "[('15. März', datetime.datetime(2024, 3, 15, 0, 0))]\n",
      "[('4. Juli', datetime.datetime(2024, 7, 4, 0, 0))]\n",
      "[('morgen', datetime.datetime(2024, 3, 11, 8, 51, 44, 517156))]\n",
      "[('Sonntag', datetime.datetime(2024, 3, 10, 0, 0))]\n",
      "[('März', datetime.datetime(2024, 3, 10, 0, 0))]\n",
      "[('20. Juli 1969', datetime.datetime(1969, 7, 20, 0, 0))]\n",
      "[('Friday', datetime.datetime(2024, 3, 8, 0, 0))]\n",
      "[('November', datetime.datetime(2024, 11, 10, 0, 0))]\n",
      "[('August', datetime.datetime(2024, 8, 10, 0, 0))]\n",
      "[('14. Februar', datetime.datetime(2024, 2, 14, 0, 0))]\n",
      "[('April', datetime.datetime(2024, 4, 10, 0, 0))]\n",
      "[('31. Dezember', datetime.datetime(2024, 12, 31, 0, 0))]\n",
      "12. Spieltag\n",
      "No dates found\n",
      "[('Jahr 2023', datetime.datetime(2023, 3, 10, 0, 0))]\n",
      "[('2024', datetime.datetime(2024, 3, 10, 0, 0))]\n"
     ]
    }
   ],
   "source": [
    "import datefinder\n",
    "import dateparser\n",
    "from dateparser.search import search_dates\n",
    "\n",
    "for item in results:\n",
    "    if item[\"label\"] in [\"date\"]:\n",
    "#         \n",
    "        if search_dates(item[\"text\"]) is None:\n",
    "            print(item[\"text\"])\n",
    "            matches = list(datefinder.find_dates(item[\"text\"]))\n",
    "\n",
    "            if len(matches) > 0:\n",
    "                # date returned will be a datetime.datetime object. here we are only using the first match.\n",
    "                date = matches[0]\n",
    "                print (date)\n",
    "            else:\n",
    "                print ('No dates found')\n",
    "        else:\n",
    "            print(search_dates(item[\"text\"]))"
   ]
  },
  {
   "cell_type": "code",
   "execution_count": null,
   "id": "f579bdc6-d32e-4b24-b5d1-4dcfa09bb6fe",
   "metadata": {},
   "outputs": [],
   "source": []
  }
 ],
 "metadata": {
  "kernelspec": {
   "display_name": "Python 3 (ipykernel)",
   "language": "python",
   "name": "python3"
  },
  "language_info": {
   "codemirror_mode": {
    "name": "ipython",
    "version": 3
   },
   "file_extension": ".py",
   "mimetype": "text/x-python",
   "name": "python",
   "nbconvert_exporter": "python",
   "pygments_lexer": "ipython3",
   "version": "3.10.11"
  }
 },
 "nbformat": 4,
 "nbformat_minor": 5
}
